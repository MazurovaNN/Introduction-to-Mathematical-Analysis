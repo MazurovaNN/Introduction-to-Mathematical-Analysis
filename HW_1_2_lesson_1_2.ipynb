{
  "nbformat": 4,
  "nbformat_minor": 0,
  "metadata": {
    "colab": {
      "provenance": [],
      "authorship_tag": "ABX9TyOdLu0FguW5/WpdoAyMSHkz",
      "include_colab_link": true
    },
    "kernelspec": {
      "name": "python3",
      "display_name": "Python 3"
    },
    "language_info": {
      "name": "python"
    }
  },
  "cells": [
    {
      "cell_type": "markdown",
      "metadata": {
        "id": "view-in-github",
        "colab_type": "text"
      },
      "source": [
        "<a href=\"https://colab.research.google.com/github/MazurovaNN/Introduction-to-Mathematical-Analysis/blob/main/HW_1_2_lesson_1_2.ipynb\" target=\"_parent\"><img src=\"https://colab.research.google.com/assets/colab-badge.svg\" alt=\"Open In Colab\"/></a>"
      ]
    },
    {
      "cell_type": "code",
      "execution_count": null,
      "metadata": {
        "id": "4pDYnl6Ua_wW"
      },
      "outputs": [],
      "source": []
    },
    {
      "cell_type": "markdown",
      "source": [
        "Практическое задание к лекции No2\n",
        "1. Представьте в виде несократимой рациональной дроби:\n",
        "а) 0.(216);\n",
        "б) 1.0(01).\n",
        "\n",
        "2. Проверьте любым способом, являются ли данные логические формулы\n",
        "тавтологией:\n",
        "а) (AA ∨ BB) → (BB ∨ AA̅)\n",
        "б) AA → �AA ∨ (BB� ∧ AA)�\n",
        "\n",
        "3. Сформулируйте словесно высказывания:\n",
        "а) (AA̅∨ BB) → CC̅\n",
        "б) CC → (AA ∨ BB�)\n",
        "где А: сегодня светит солнце; В: сегодня сыро; С: я поеду на дачу."
      ],
      "metadata": {
        "id": "Y57Cg35TbOsA"
      }
    },
    {
      "cell_type": "markdown",
      "source": [
        "## РЕШЕНИЕ  ЗАДАЧИ  №1\n",
        "\n",
        "Тема \"Множества. Предел последовательности\"\n",
        "Представьте в виде несократимой рациональной дроби:\n",
        "\n",
        "а) 0.(216);\n",
        "\n",
        "1000а=216 + 0.(216)\n",
        "\n",
        "1000а=216 +а\n",
        "\n",
        "## а=216/999=24/111=8/37\n",
        "\n",
        "\n",
        "б) 1.0(01)\n",
        "\n",
        "10а=10,(01)\n",
        "\n",
        "10а=10 + 0,(01)\n",
        "\n",
        "b = 0.(01)\n",
        "\n",
        "100b = 1,(01)\n",
        "\n",
        "100b = 1 + 0,(01)\n",
        "\n",
        "100b = 1 + b\n",
        "\n",
        "b = 1/99\n",
        "\n",
        "10a = 10 + 1/99\n",
        "\n",
        "## a = 991/990\n",
        "\n",
        "\n"
      ],
      "metadata": {
        "id": "tcT6w3hybdOl"
      }
    },
    {
      "cell_type": "markdown",
      "source": [
        "## РЕШЕНИЕ  ЗАДАЧИ  №2\n",
        "\n",
        "\n",
        "Проверяю любым способ, является ли данная логическая формула тавтологией:\n",
        "\n",
        "\n",
        "а) (A ∨ B) → (B ∨ A̅)\n",
        "\n",
        "\n",
        " $$ \\begin{array}{|c|c|} A & B & A \\vee B & \\overline{A} & B \\vee \\overline{A} & (A \\vee B) \\to (B \\vee \\overline{A})\\ \\hline True & True & True & False & True & True\\ True & False & True & False & False & False\\ False & True & True & True & True & True\\ False & False & False & True & True & True \\end{array} $$ Даная формула не является тавтологией.\n",
        "\n",
        "\n",
        "б)  A → (A ∨ (B(черта наверху) ∧ A)) A → A  Даная формула  является тавтологией.\n",
        "\n"
      ],
      "metadata": {
        "id": "S6OdL7qFe31K"
      }
    },
    {
      "cell_type": "markdown",
      "source": [
        "## РЕШЕНИЕ ЗАДАЧИ №3\n",
        "\n",
        "Сформулируйте словесно высказывания (А: сегодня светит солнце; В: сегодня сыро; С: я поеду на дачу.):\n",
        "\n",
        "\n",
        "\n",
        "а) (A̅ ∨ B) → C̅\n",
        "\n",
        " Если сегодня не будет светить солнце или сегодня будет сыро, я не поеду на дачу.\n",
        "\n",
        "б) C → (A ∨ B(черта наверху))\n",
        "\n",
        " Если я поеду на дачу, сегодня будет светить солнце, и сегодня не будет сыро."
      ],
      "metadata": {
        "id": "foJZjUoqhvdv"
      }
    },
    {
      "cell_type": "markdown",
      "source": [],
      "metadata": {
        "id": "SBfXzs-8it6k"
      }
    }
  ]
}