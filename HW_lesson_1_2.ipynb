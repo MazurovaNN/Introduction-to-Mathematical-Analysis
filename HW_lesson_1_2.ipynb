{
  "cells": [
    {
      "cell_type": "markdown",
      "metadata": {
        "id": "view-in-github",
        "colab_type": "text"
      },
      "source": [
        "<a href=\"https://colab.research.google.com/github/MazurovaNN/Introduction-to-Mathematical-Analysis/blob/main/HW_lesson_1_2.ipynb\" target=\"_parent\"><img src=\"https://colab.research.google.com/assets/colab-badge.svg\" alt=\"Open In Colab\"/></a>"
      ]
    },
    {
      "cell_type": "markdown",
      "metadata": {
        "id": "0JC54zlO7jNh"
      },
      "source": [
        "# Тема “Введение в математических анализ”\n",
        "\n",
        "Урок 1. Вводный урок\n",
        "\n",
        "Урок 2. Множество. Последовательность. Часть 1\n"
      ]
    },
    {
      "cell_type": "markdown",
      "metadata": {
        "id": "N_szoGWX7jNl"
      },
      "source": [
        "## 1. Как относятся друг к другу множество и последовательность? (в ответе использовать слова типа: часть, целое, общее, частное, родитель, дочерний субъект и т.д.)"
      ]
    },
    {
      "cell_type": "markdown",
      "metadata": {
        "id": "0JeT0R7d7jNm"
      },
      "source": [
        "Мно́жество — это совокупность, собрание каких-либо объектов и обладают общими для всех их характеристическим свойством.\n",
        "\n",
        "Последовательность — набор элементов некоторого множества.\n",
        "\n",
        "Последовательность, является частью некоторого множества объектов. Последовательность является результатом последовательного выбора элементов заданного множества."
      ]
    },
    {
      "cell_type": "markdown",
      "metadata": {
        "id": "8hdqhLQt7jNn"
      },
      "source": [
        "## 2. Прочитать высказывания математической логики, построить их отрицания и установить истинность."
      ]
    },
    {
      "cell_type": "markdown",
      "metadata": {
        "id": "tyS4ztOB7jNn"
      },
      "source": [
        "+ $\\forall y \\in [0;1]:sgn(y)=1$  \n",
        "$\\exists x \\in [0;1]:sgn(x)\\neq 1$"
      ]
    },
    {
      "cell_type": "markdown",
      "metadata": {
        "id": "Qpw3_ooa7jNo"
      },
      "source": [
        "Для любого y, принадлещего интервалу от 0 до 1 включительно, кусочно-постоянная функция действительного аргумента принимает значение 1.  \n",
        "Высказывание ложно."
      ]
    },
    {
      "cell_type": "markdown",
      "metadata": {
        "id": "8kGJL-ol7jNo"
      },
      "source": [
        "* $\\forall n \\in \\mathbb {N} > 2 : \\exists x, y, z \\in \\mathbb {N}: x^n = y^n + z^n$  \n",
        "$\\exists n \\in \\mathbb {N} > 2 : \\forall x, y, z \\in \\mathbb {N}: x^n \\neq y^n + z^n$"
      ]
    },
    {
      "cell_type": "markdown",
      "metadata": {
        "id": "BrKbpxEW7jNp"
      },
      "source": [
        "Для любого n больше 2, принадлежащего множеству натуральных чисел, существуют x, y, z, принадлежащие множеству натуральных чисел, для которых выполняется раветство $x^n = y^n + z^n$.  \n",
        "Высказывание истинно."
      ]
    },
    {
      "cell_type": "markdown",
      "metadata": {
        "id": "jZfz7U847jNq"
      },
      "source": [
        "+ $\\forall x \\in \\mathbb {R} \\exists X \\in \\mathbb {R} :X >x$  \n",
        "$\\exists x \\in \\mathbb {R} \\forall X \\in \\mathbb {R} :X < x$"
      ]
    },
    {
      "cell_type": "markdown",
      "metadata": {
        "id": "rMH0i_P67jNq"
      },
      "source": [
        "Для любого x, принадлежащего множеству действительных чисел, существует последовательность X, принадлежащая множеству действительных чисел, для которой выполняется неравенство X > x.  \n",
        "Высказывание ложно."
      ]
    },
    {
      "cell_type": "markdown",
      "metadata": {
        "id": "IAO20jh87jNr"
      },
      "source": [
        "+ $\\forall x \\in \\mathbb {C} \\nexists y \\in \\mathbb {C} : x > y \\parallel x < y$  \n",
        "$\\exists x,y \\in \\mathbb {C} : x < y \\& x > y$"
      ]
    },
    {
      "cell_type": "markdown",
      "metadata": {
        "id": "YtU38uGM7jNr"
      },
      "source": [
        "Для любого x, принадлежащего множеству комплексных чисел, не существует y, принадлежащего множеству комплексных чисел, для которого выполняется неравенство x > y или x < y.   \n",
        "Высказывание истинно."
      ]
    },
    {
      "cell_type": "markdown",
      "metadata": {
        "id": "kbp77Mvd7jNr"
      },
      "source": [
        "+ $\\forall y \\in [0; \\frac {\\pi} {2}] \\exists \\epsilon> 0: \\sin{y} < \\sin{(y + \\epsilon)}$  \n",
        "$\\exists y \\in [0; \\frac {\\pi} {2}] \\forall \\epsilon > 0: \\sin{y} > \\sin{(y + \\epsilon)}$"
      ]
    },
    {
      "cell_type": "markdown",
      "metadata": {
        "id": "5nc052Ca7jNs"
      },
      "source": [
        "Для любого y, принадлежащего интервалу от 0 до $\\frac{\\pi}{2}$ включительно, существует $\\epsilon$ больше 0, для которого выполняется неравенство $\\sin{y} < \\sin{(y + \\epsilon)}$.  \n",
        "Высказывание ложно."
      ]
    },
    {
      "cell_type": "markdown",
      "metadata": {
        "id": "HblQtyL-7jNs"
      },
      "source": [
        "+ $\\forall y \\in [0; \\pi) \\exists \\epsilon> 0: \\cos{y} > \\cos{(y + \\epsilon)}$  \n",
        "$\\exists y \\in [0; \\pi) \\forall \\epsilon > 0: \\cos{y} < \\cos{(y + \\epsilon)}$"
      ]
    },
    {
      "cell_type": "markdown",
      "metadata": {
        "id": "bC913tap7jNs"
      },
      "source": [
        "Для любого y, принадлежащего интервалу от 0 включительно до $\\pi $ невключительно, существует $\\epsilon$ больше 0, для которого выполняется неравенство $\\cos{y} < \\cos{(y + \\epsilon)}$.  \n",
        "Высказывание истино."
      ]
    },
    {
      "cell_type": "markdown",
      "metadata": {
        "id": "hVH2vDlY7jNt"
      },
      "source": [
        "+ $\\exists x: x \\notin \\{\\mathbb{N, Z, Q, R, C}\\}$  \n",
        "$\\forall x: x \\in \\{\\mathbb{N, Z, Q, R, C}\\}$"
      ]
    },
    {
      "cell_type": "markdown",
      "metadata": {
        "id": "qoquk1ox7jNt"
      },
      "source": [
        "Для любого x, x не является элементом множества натуральных, целых, рациональных, действительных и комплексных чисел.  \n",
        "Высказывание ложно."
      ]
    },
    {
      "cell_type": "markdown",
      "metadata": {
        "id": "NpxpAg5S7jNt"
      },
      "source": [
        "# Тема “Множество”"
      ]
    },
    {
      "cell_type": "markdown",
      "metadata": {
        "id": "TrzKgnUI7jNu"
      },
      "source": [
        "## 1. Даны три множества a,b и с. Необходимо выполнить все изученные виды бинарных операций над всеми комбинациями множеств."
      ]
    },
    {
      "cell_type": "markdown",
      "metadata": {
        "id": "8MC25W_z7jNu"
      },
      "source": [
        "$A = \\{1, 2, test, 8\\}$  \n",
        "$B = \\{cat, 5, 1, 10, dog\\}$  \n",
        "$C = \\{test, 2 , 1, 7\\}$  "
      ]
    },
    {
      "cell_type": "markdown",
      "metadata": {
        "id": "zjKTL2l47jNu"
      },
      "source": [
        "+ Пересечение  \n",
        "$A \\cap B \\cap C = \\{1\\}$"
      ]
    },
    {
      "cell_type": "markdown",
      "metadata": {
        "id": "qw1iJ64v7jNu"
      },
      "source": [
        "+ Объединение  \n",
        "$A \\cup B \\cup C = \\{1, 2, test, 8, cat, 5, 1, 10, dog, 7\\}$"
      ]
    },
    {
      "cell_type": "markdown",
      "metadata": {
        "id": "K1W7c3ip7jNv"
      },
      "source": [
        "+ Разность  \n",
        "$A \\setminus B \\setminus C = \\{8\\}$"
      ]
    },
    {
      "cell_type": "markdown",
      "metadata": {
        "id": "puRqtb0B7jNv"
      },
      "source": [
        "+ Симметричной разность  \n",
        "$A \\Delta B \\Delta C = \\{8, 10, 5, cat, dog, 7\\}$"
      ]
    },
    {
      "cell_type": "markdown",
      "metadata": {
        "id": "vAu7uS0m7jNv"
      },
      "source": [
        "+ Декартово произведение  \n",
        "$A \\times B \\times C = \\{(1, cat, test), (2, 5, 2)\\dots \\}$"
      ]
    },
    {
      "cell_type": "markdown",
      "metadata": {
        "id": "zRwNoRs17jNv"
      },
      "source": [
        "## 2. *Выполнить задание 1 на языке Python"
      ]
    },
    {
      "cell_type": "code",
      "execution_count": null,
      "metadata": {
        "id": "wyIXvmcd7jNw"
      },
      "outputs": [],
      "source": [
        "A = {1, 2, 'test', 8}\n",
        "B = {'cat', 5, 1, 10, 'dog'}\n",
        "C = {'test', 2 , 1, 7}"
      ]
    },
    {
      "cell_type": "code",
      "execution_count": null,
      "metadata": {
        "id": "xNkGbxiu7jNx",
        "outputId": "8dfb0ca8-9c61-4b76-b696-f4f0aa8d7d95"
      },
      "outputs": [
        {
          "data": {
            "text/plain": [
              "{1}"
            ]
          },
          "execution_count": 2,
          "metadata": {},
          "output_type": "execute_result"
        }
      ],
      "source": [
        "A & B & C"
      ]
    },
    {
      "cell_type": "code",
      "execution_count": null,
      "metadata": {
        "id": "fwkg_NCp7jNy",
        "outputId": "0c3c54da-aff0-4a07-c4c6-cc63769b1e4d"
      },
      "outputs": [
        {
          "data": {
            "text/plain": [
              "{1, 10, 2, 5, 7, 8, 'cat', 'dog', 'test'}"
            ]
          },
          "execution_count": 3,
          "metadata": {},
          "output_type": "execute_result"
        }
      ],
      "source": [
        "A | B | C"
      ]
    },
    {
      "cell_type": "code",
      "execution_count": null,
      "metadata": {
        "id": "01iRz3U-7jNz",
        "outputId": "bc28b4b1-bca6-43dd-c4f3-97437277e8f4"
      },
      "outputs": [
        {
          "data": {
            "text/plain": [
              "{8}"
            ]
          },
          "execution_count": 4,
          "metadata": {},
          "output_type": "execute_result"
        }
      ],
      "source": [
        "A - B - C"
      ]
    },
    {
      "cell_type": "code",
      "execution_count": null,
      "metadata": {
        "id": "bEoSY3Au7jNz",
        "outputId": "e01acf01-90aa-4c7d-dcb9-0a2107a25abf"
      },
      "outputs": [
        {
          "data": {
            "text/plain": [
              "{10, 5, 7, 8, 'cat', 'dog'}"
            ]
          },
          "execution_count": 5,
          "metadata": {},
          "output_type": "execute_result"
        }
      ],
      "source": [
        "(A - B - C) | (B - C - A) | (C - A - B)"
      ]
    },
    {
      "cell_type": "code",
      "execution_count": null,
      "metadata": {
        "id": "MVXrkvkG7jNz",
        "outputId": "8d9d6a5e-d0b0-44db-b0ee-35ba2b8c38d5"
      },
      "outputs": [
        {
          "name": "stdout",
          "output_type": "stream",
          "text": [
            "(8, 1, 'test') (8, 1, 2) (8, 1, 1) (8, 1, 7) (8, 5, 'test') (8, 5, 2) (8, 5, 1) (8, 5, 7) (8, 10, 'test') (8, 10, 2) (8, 10, 1) (8, 10, 7) (8, 'dog', 'test') (8, 'dog', 2) (8, 'dog', 1) (8, 'dog', 7) (8, 'cat', 'test') (8, 'cat', 2) (8, 'cat', 1) (8, 'cat', 7) (1, 1, 'test') (1, 1, 2) (1, 1, 1) (1, 1, 7) (1, 5, 'test') (1, 5, 2) (1, 5, 1) (1, 5, 7) (1, 10, 'test') (1, 10, 2) (1, 10, 1) (1, 10, 7) (1, 'dog', 'test') (1, 'dog', 2) (1, 'dog', 1) (1, 'dog', 7) (1, 'cat', 'test') (1, 'cat', 2) (1, 'cat', 1) (1, 'cat', 7) (2, 1, 'test') (2, 1, 2) (2, 1, 1) (2, 1, 7) (2, 5, 'test') (2, 5, 2) (2, 5, 1) (2, 5, 7) (2, 10, 'test') (2, 10, 2) (2, 10, 1) (2, 10, 7) (2, 'dog', 'test') (2, 'dog', 2) (2, 'dog', 1) (2, 'dog', 7) (2, 'cat', 'test') (2, 'cat', 2) (2, 'cat', 1) (2, 'cat', 7) ('test', 1, 'test') ('test', 1, 2) ('test', 1, 1) ('test', 1, 7) ('test', 5, 'test') ('test', 5, 2) ('test', 5, 1) ('test', 5, 7) ('test', 10, 'test') ('test', 10, 2) ('test', 10, 1) ('test', 10, 7) ('test', 'dog', 'test') ('test', 'dog', 2) ('test', 'dog', 1) ('test', 'dog', 7) ('test', 'cat', 'test') ('test', 'cat', 2) ('test', 'cat', 1) ('test', 'cat', 7)\n"
          ]
        }
      ],
      "source": [
        "import itertools\n",
        "print(*itertools.product(A, B, C))"
      ]
    },
    {
      "cell_type": "markdown",
      "metadata": {
        "id": "ZdyUB-ES7jN0"
      },
      "source": [
        "# Тема 3 “Последовательность”"
      ]
    },
    {
      "cell_type": "markdown",
      "metadata": {
        "id": "Es1DbvyF7jN0"
      },
      "source": [
        "## 1. Даны 4 последовательности. Необходимо:  \n",
        "### a. исследовать их на монотонность;  \n",
        "### b. исследовать на ограниченность;  \n",
        "### c. найти пятый по счету член."
      ]
    },
    {
      "cell_type": "markdown",
      "metadata": {
        "id": "24b8cr-N7jN0"
      },
      "source": [
        "$\\{a_n\\}^\\infty_{n=1}=2^n -n$  \n",
        "\n",
        "a. монотонная последовательность\n",
        "\n",
        "b. возрастающая\n",
        "\n",
        "c. $27$"
      ]
    },
    {
      "cell_type": "markdown",
      "metadata": {
        "id": "8surkdP_7jN0"
      },
      "source": [
        "$\\{b_n\\}^\\infty_{n=2} = \\frac {1} {1 -n}$  \n",
        "\n",
        "a. монотонная последовательность\n",
        "\n",
        "b. возрастающая\n",
        "\n",
        "c. $-\\frac{1}{5}$"
      ]
    },
    {
      "cell_type": "markdown",
      "metadata": {
        "id": "i0gDp5bD7jN0"
      },
      "source": [
        "$\\{c_n\\}^\\infty_{n=1} = -1^n + \\sqrt{2n}$  \n",
        "\n",
        "a. монотонная последовательность\n",
        "\n",
        "b. возрастающая\n",
        "\n",
        "c. $\\sqrt{10} - 1 \\approx 2.162$"
      ]
    },
    {
      "cell_type": "markdown",
      "metadata": {
        "id": "DlZMq5_o7jN0"
      },
      "source": [
        "$\\{d_n\\}^\\infty_{n=1}= (-1)^{2n} + \\frac{1}{n^2}$  \n",
        "\n",
        "a. нестрогая монотонность\n",
        "\n",
        "b. нестрого убывает\n",
        "\n",
        "c. $1\\frac{1}{25}$"
      ]
    },
    {
      "cell_type": "markdown",
      "metadata": {
        "id": "MyF57EWF7jN5"
      },
      "source": [
        "## 2. Найти 12-й член заданной неявно последовательности\n",
        "\n",
        "$a_1 =128, a_{n+1} - a_n =6$"
      ]
    },
    {
      "cell_type": "markdown",
      "metadata": {
        "id": "yf-fq9oi7jN5"
      },
      "source": [
        "$a_n = 128 + 5n$  \n",
        "$a_{12} = 128 +5\\times 12 = 194$"
      ]
    },
    {
      "cell_type": "code",
      "execution_count": null,
      "metadata": {
        "id": "0TqoSJZC7jN5",
        "outputId": "ebdf1228-c29c-4816-b9d7-f0e6c14b0c22"
      },
      "outputs": [
        {
          "name": "stdout",
          "output_type": "stream",
          "text": [
            "194\n"
          ]
        }
      ],
      "source": [
        "a1=128\n",
        "for _ in range(11):\n",
        "    a1 += 6\n",
        "print(a1)"
      ]
    },
    {
      "cell_type": "markdown",
      "metadata": {
        "id": "rMDgq2QH7jN6"
      },
      "source": [
        "## 3. *На языке Python предложить алгоритм вычисляющий численно предел с точностью $\\epsilon = 10^{-7}$\n",
        "\n",
        "$\\lim\\limits_{n \\to +\\infty} \\frac{n}{\\sqrt[n]{n!}}$"
      ]
    },
    {
      "cell_type": "code",
      "execution_count": null,
      "metadata": {
        "id": "kdvoaqdY7jN6"
      },
      "outputs": [],
      "source": [
        "from math import factorial\n",
        "from decimal import Decimal, getcontext\n",
        "getcontext().prec = 10"
      ]
    },
    {
      "cell_type": "code",
      "execution_count": null,
      "metadata": {
        "id": "OFosrpmy7jN7",
        "outputId": "6bd83f63-46b8-4d75-9b37-1937d0ab0005"
      },
      "outputs": [
        {
          "name": "stdout",
          "output_type": "stream",
          "text": [
            " n = 3497, \n",
            " delta = 9.99E-7\n",
            "CPU times: user 48.5 s, sys: 5.3 ms, total: 48.5 s\n",
            "Wall time: 48.6 s\n"
          ]
        }
      ],
      "source": [
        "%%time\n",
        "n = 1\n",
        "e = 1e-6\n",
        "delta = 1\n",
        "s_prev = 0\n",
        "while delta > e:\n",
        "    s = Decimal(n) / (Decimal(factorial(n)) ** Decimal(1/n))\n",
        "    delta = s - s_prev\n",
        "    s_prev = s\n",
        "    n += 1\n",
        "\n",
        "print(f' n = {n}, \\n delta = {delta}')"
      ]
    },
    {
      "cell_type": "markdown",
      "metadata": {
        "id": "2KFbDQAq7jN7"
      },
      "source": [
        "## 4. *Предложить оптимизацию алгоритма, полученного в задании 3, ускоряющую его сходимость."
      ]
    }
  ],
  "metadata": {
    "kernelspec": {
      "display_name": "Python 3",
      "language": "python",
      "name": "python3"
    },
    "language_info": {
      "codemirror_mode": {
        "name": "ipython",
        "version": 3
      },
      "file_extension": ".py",
      "mimetype": "text/x-python",
      "name": "python",
      "nbconvert_exporter": "python",
      "pygments_lexer": "ipython3",
      "version": "3.7.4"
    },
    "latex_envs": {
      "LaTeX_envs_menu_present": true,
      "autoclose": true,
      "autocomplete": true,
      "bibliofile": "biblio.bib",
      "cite_by": "apalike",
      "current_citInitial": 1,
      "eqLabelWithNumbers": true,
      "eqNumInitial": 1,
      "hotkeys": {
        "equation": "Ctrl-E",
        "itemize": "Ctrl-I"
      },
      "labels_anchors": false,
      "latex_user_defs": false,
      "report_style_numbering": false,
      "user_envs_cfg": false
    },
    "toc": {
      "base_numbering": 1,
      "nav_menu": {},
      "number_sections": true,
      "sideBar": true,
      "skip_h1_title": false,
      "title_cell": "Table of Contents",
      "title_sidebar": "Contents",
      "toc_cell": false,
      "toc_position": {},
      "toc_section_display": true,
      "toc_window_display": false
    },
    "varInspector": {
      "cols": {
        "lenName": 16,
        "lenType": 16,
        "lenVar": 40
      },
      "kernels_config": {
        "python": {
          "delete_cmd_postfix": "",
          "delete_cmd_prefix": "del ",
          "library": "var_list.py",
          "varRefreshCmd": "print(var_dic_list())"
        },
        "r": {
          "delete_cmd_postfix": ") ",
          "delete_cmd_prefix": "rm(",
          "library": "var_list.r",
          "varRefreshCmd": "cat(var_dic_list()) "
        }
      },
      "types_to_exclude": [
        "module",
        "function",
        "builtin_function_or_method",
        "instance",
        "_Feature"
      ],
      "window_display": false
    },
    "colab": {
      "provenance": [],
      "include_colab_link": true
    }
  },
  "nbformat": 4,
  "nbformat_minor": 0
}