{
  "nbformat": 4,
  "nbformat_minor": 0,
  "metadata": {
    "colab": {
      "provenance": [],
      "include_colab_link": true
    },
    "kernelspec": {
      "name": "python3",
      "display_name": "Python 3"
    }
  },
  "cells": [
    {
      "cell_type": "markdown",
      "metadata": {
        "id": "view-in-github",
        "colab_type": "text"
      },
      "source": [
        "<a href=\"https://colab.research.google.com/github/MazurovaNN/Introduction-to-Mathematical-Analysis/blob/main/GB_lesson_3_HW.ipynb\" target=\"_parent\"><img src=\"https://colab.research.google.com/assets/colab-badge.svg\" alt=\"Open In Colab\"/></a>"
      ]
    },
    {
      "cell_type": "code",
      "metadata": {
        "id": "B3JyUqwWObTT"
      },
      "source": [
        "from math import factorial, sqrt\n",
        "import sympy\n",
        "import math"
      ],
      "execution_count": 1,
      "outputs": []
    },
    {
      "cell_type": "code",
      "metadata": {
        "id": "b4kIQsxDPYAm"
      },
      "source": [
        "def function(n):\n",
        "  return n/(factorial(n)**(1/n))"
      ],
      "execution_count": 2,
      "outputs": []
    },
    {
      "cell_type": "code",
      "metadata": {
        "id": "3OevefJIH8OJ"
      },
      "source": [
        "def function_s(n):\n",
        "  return n/(sympy.factorial(n)**(1/n))"
      ],
      "execution_count": 3,
      "outputs": []
    },
    {
      "cell_type": "markdown",
      "metadata": {
        "id": "9CSJGeOaKwWN"
      },
      "source": [
        "### Решаем \"в лоб\""
      ]
    },
    {
      "cell_type": "code",
      "metadata": {
        "id": "Z8rW-vMfOg04"
      },
      "source": [
        "epsilon = 10e-7\n",
        "delta = 1\n",
        "n = 1\n",
        "curr = function(1)\n",
        "step = 50"
      ],
      "execution_count": 4,
      "outputs": []
    },
    {
      "cell_type": "code",
      "metadata": {
        "colab": {
          "base_uri": "https://localhost:8080/",
          "height": 419
        },
        "id": "UygIBr2aOhO8",
        "outputId": "a017a6de-96e3-4c41-da64-97fca9e9578b"
      },
      "source": [
        "while delta > epsilon:\n",
        "  next = function(n+1)\n",
        "  delta = abs(curr - next)\n",
        "  curr = next\n",
        "  n += step\n",
        "  print(n, delta)\n",
        "  print(f\"Текущее значение предела: {curr}\")"
      ],
      "execution_count": 5,
      "outputs": [
        {
          "output_type": "stream",
          "name": "stdout",
          "text": [
            "51 0.4142135623730949\n",
            "Текущее значение предела: 1.414213562373095\n",
            "101 1.15681119807808\n",
            "Текущее значение предела: 2.571024760451175\n",
            "151 0.06246890251100812\n",
            "Текущее значение предела: 2.633493662962183\n",
            "201 0.024109957325484377\n",
            "Текущее значение предела: 2.6576036202876674\n"
          ]
        },
        {
          "output_type": "error",
          "ename": "OverflowError",
          "evalue": "int too large to convert to float",
          "traceback": [
            "\u001b[0;31m---------------------------------------------------------------------------\u001b[0m",
            "\u001b[0;31mOverflowError\u001b[0m                             Traceback (most recent call last)",
            "\u001b[0;32m<ipython-input-5-85c37d318a24>\u001b[0m in \u001b[0;36m<cell line: 1>\u001b[0;34m()\u001b[0m\n\u001b[1;32m      1\u001b[0m \u001b[0;32mwhile\u001b[0m \u001b[0mdelta\u001b[0m \u001b[0;34m>\u001b[0m \u001b[0mepsilon\u001b[0m\u001b[0;34m:\u001b[0m\u001b[0;34m\u001b[0m\u001b[0;34m\u001b[0m\u001b[0m\n\u001b[0;32m----> 2\u001b[0;31m   \u001b[0mnext\u001b[0m \u001b[0;34m=\u001b[0m \u001b[0mfunction\u001b[0m\u001b[0;34m(\u001b[0m\u001b[0mn\u001b[0m\u001b[0;34m+\u001b[0m\u001b[0;36m1\u001b[0m\u001b[0;34m)\u001b[0m\u001b[0;34m\u001b[0m\u001b[0;34m\u001b[0m\u001b[0m\n\u001b[0m\u001b[1;32m      3\u001b[0m   \u001b[0mdelta\u001b[0m \u001b[0;34m=\u001b[0m \u001b[0mabs\u001b[0m\u001b[0;34m(\u001b[0m\u001b[0mcurr\u001b[0m \u001b[0;34m-\u001b[0m \u001b[0mnext\u001b[0m\u001b[0;34m)\u001b[0m\u001b[0;34m\u001b[0m\u001b[0;34m\u001b[0m\u001b[0m\n\u001b[1;32m      4\u001b[0m   \u001b[0mcurr\u001b[0m \u001b[0;34m=\u001b[0m \u001b[0mnext\u001b[0m\u001b[0;34m\u001b[0m\u001b[0;34m\u001b[0m\u001b[0m\n\u001b[1;32m      5\u001b[0m   \u001b[0mn\u001b[0m \u001b[0;34m+=\u001b[0m \u001b[0mstep\u001b[0m\u001b[0;34m\u001b[0m\u001b[0;34m\u001b[0m\u001b[0m\n",
            "\u001b[0;32m<ipython-input-2-815683c5674d>\u001b[0m in \u001b[0;36mfunction\u001b[0;34m(n)\u001b[0m\n\u001b[1;32m      1\u001b[0m \u001b[0;32mdef\u001b[0m \u001b[0mfunction\u001b[0m\u001b[0;34m(\u001b[0m\u001b[0mn\u001b[0m\u001b[0;34m)\u001b[0m\u001b[0;34m:\u001b[0m\u001b[0;34m\u001b[0m\u001b[0;34m\u001b[0m\u001b[0m\n\u001b[0;32m----> 2\u001b[0;31m   \u001b[0;32mreturn\u001b[0m \u001b[0mn\u001b[0m\u001b[0;34m/\u001b[0m\u001b[0;34m(\u001b[0m\u001b[0mfactorial\u001b[0m\u001b[0;34m(\u001b[0m\u001b[0mn\u001b[0m\u001b[0;34m)\u001b[0m\u001b[0;34m**\u001b[0m\u001b[0;34m(\u001b[0m\u001b[0;36m1\u001b[0m\u001b[0;34m/\u001b[0m\u001b[0mn\u001b[0m\u001b[0;34m)\u001b[0m\u001b[0;34m)\u001b[0m\u001b[0;34m\u001b[0m\u001b[0;34m\u001b[0m\u001b[0m\n\u001b[0m",
            "\u001b[0;31mOverflowError\u001b[0m: int too large to convert to float"
          ]
        }
      ]
    },
    {
      "cell_type": "markdown",
      "metadata": {
        "id": "dF9oLCS0LMWU"
      },
      "source": [
        "### Используем SymPy для факториала"
      ]
    },
    {
      "cell_type": "code",
      "metadata": {
        "id": "OKTs_e4nKvKL"
      },
      "source": [
        "epsilon = 10e-7\n",
        "delta = 1\n",
        "n = 1\n",
        "curr = function(1)\n",
        "step = 1"
      ],
      "execution_count": 6,
      "outputs": []
    },
    {
      "cell_type": "code",
      "metadata": {
        "colab": {
          "base_uri": "https://localhost:8080/"
        },
        "id": "fkMqWSq0I5Kq",
        "outputId": "f0dc1e8b-8ae8-460c-9789-a88506e7377b"
      },
      "source": [
        "%%time\n",
        "while delta > epsilon:\n",
        "  next = function_s(n+1)\n",
        "  delta = abs(curr - next)\n",
        "  curr = next\n",
        "  n += step"
      ],
      "execution_count": 7,
      "outputs": [
        {
          "output_type": "stream",
          "name": "stdout",
          "text": [
            "CPU times: user 5.73 s, sys: 55.5 ms, total: 5.79 s\n",
            "Wall time: 5.95 s\n"
          ]
        }
      ]
    },
    {
      "cell_type": "code",
      "metadata": {
        "colab": {
          "base_uri": "https://localhost:8080/"
        },
        "id": "0xbavA6SJAk6",
        "outputId": "cdcdf11b-7527-4b3c-cc63-4148817ccefd"
      },
      "source": [
        "print(n, delta)\n",
        "print(f\"Текущее значение предела: {curr}\")"
      ],
      "execution_count": 8,
      "outputs": [
        {
          "output_type": "stream",
          "name": "stdout",
          "text": [
            "3495 9.99923936539915e-7\n",
            "Текущее значение предела: 2.71439695339699\n"
          ]
        }
      ]
    },
    {
      "cell_type": "markdown",
      "metadata": {
        "id": "gpNIikdCLRM8"
      },
      "source": [
        "### Используем теорему Штольца"
      ]
    },
    {
      "cell_type": "code",
      "metadata": {
        "id": "eYtqQ9EwSKmI"
      },
      "source": [
        "def stolz_theorem(n):\n",
        "  return 1/(sympy.factorial(n)**(1/n)-sympy.factorial(n-1)**(1/(n-1)))"
      ],
      "execution_count": 9,
      "outputs": []
    },
    {
      "cell_type": "code",
      "metadata": {
        "colab": {
          "base_uri": "https://localhost:8080/",
          "height": 211
        },
        "id": "zkY-nAZaGSOI",
        "outputId": "b2892e38-b47b-49d0-9d31-4e1f36ba2345"
      },
      "source": [
        "stolz_theorem(1)"
      ],
      "execution_count": 10,
      "outputs": [
        {
          "output_type": "error",
          "ename": "ZeroDivisionError",
          "evalue": "division by zero",
          "traceback": [
            "\u001b[0;31m---------------------------------------------------------------------------\u001b[0m",
            "\u001b[0;31mZeroDivisionError\u001b[0m                         Traceback (most recent call last)",
            "\u001b[0;32m<ipython-input-10-51cd40f66285>\u001b[0m in \u001b[0;36m<cell line: 1>\u001b[0;34m()\u001b[0m\n\u001b[0;32m----> 1\u001b[0;31m \u001b[0mstolz_theorem\u001b[0m\u001b[0;34m(\u001b[0m\u001b[0;36m1\u001b[0m\u001b[0;34m)\u001b[0m\u001b[0;34m\u001b[0m\u001b[0;34m\u001b[0m\u001b[0m\n\u001b[0m",
            "\u001b[0;32m<ipython-input-9-4f0df129c646>\u001b[0m in \u001b[0;36mstolz_theorem\u001b[0;34m(n)\u001b[0m\n\u001b[1;32m      1\u001b[0m \u001b[0;32mdef\u001b[0m \u001b[0mstolz_theorem\u001b[0m\u001b[0;34m(\u001b[0m\u001b[0mn\u001b[0m\u001b[0;34m)\u001b[0m\u001b[0;34m:\u001b[0m\u001b[0;34m\u001b[0m\u001b[0;34m\u001b[0m\u001b[0m\n\u001b[0;32m----> 2\u001b[0;31m   \u001b[0;32mreturn\u001b[0m \u001b[0;36m1\u001b[0m\u001b[0;34m/\u001b[0m\u001b[0;34m(\u001b[0m\u001b[0msympy\u001b[0m\u001b[0;34m.\u001b[0m\u001b[0mfactorial\u001b[0m\u001b[0;34m(\u001b[0m\u001b[0mn\u001b[0m\u001b[0;34m)\u001b[0m\u001b[0;34m**\u001b[0m\u001b[0;34m(\u001b[0m\u001b[0;36m1\u001b[0m\u001b[0;34m/\u001b[0m\u001b[0mn\u001b[0m\u001b[0;34m)\u001b[0m\u001b[0;34m-\u001b[0m\u001b[0msympy\u001b[0m\u001b[0;34m.\u001b[0m\u001b[0mfactorial\u001b[0m\u001b[0;34m(\u001b[0m\u001b[0mn\u001b[0m\u001b[0;34m-\u001b[0m\u001b[0;36m1\u001b[0m\u001b[0;34m)\u001b[0m\u001b[0;34m**\u001b[0m\u001b[0;34m(\u001b[0m\u001b[0;36m1\u001b[0m\u001b[0;34m/\u001b[0m\u001b[0;34m(\u001b[0m\u001b[0mn\u001b[0m\u001b[0;34m-\u001b[0m\u001b[0;36m1\u001b[0m\u001b[0;34m)\u001b[0m\u001b[0;34m)\u001b[0m\u001b[0;34m)\u001b[0m\u001b[0;34m\u001b[0m\u001b[0;34m\u001b[0m\u001b[0m\n\u001b[0m",
            "\u001b[0;31mZeroDivisionError\u001b[0m: division by zero"
          ]
        }
      ]
    },
    {
      "cell_type": "code",
      "metadata": {
        "id": "Geq-ln7uSKXs"
      },
      "source": [
        "epsilon = 10e-7\n",
        "delta = 1\n",
        "n = 2\n",
        "curr = stolz_theorem(2)\n",
        "step = 1"
      ],
      "execution_count": 11,
      "outputs": []
    },
    {
      "cell_type": "code",
      "metadata": {
        "colab": {
          "base_uri": "https://localhost:8080/"
        },
        "id": "5xQ4jSGuIvy-",
        "outputId": "20e3c19d-c9db-4d5e-ea66-fc72b2425c21"
      },
      "source": [
        "%%time\n",
        "while delta > epsilon:\n",
        "  next = stolz_theorem(n+1)\n",
        "  delta = abs(curr - next)\n",
        "  curr = next\n",
        "  n += step"
      ],
      "execution_count": 12,
      "outputs": [
        {
          "output_type": "stream",
          "name": "stdout",
          "text": [
            "CPU times: user 957 ms, sys: 3.96 ms, total: 961 ms\n",
            "Wall time: 968 ms\n"
          ]
        }
      ]
    },
    {
      "cell_type": "code",
      "metadata": {
        "colab": {
          "base_uri": "https://localhost:8080/"
        },
        "id": "54W51P4xIvnM",
        "outputId": "2371e226-8f54-491b-97ea-4070ac4bfa83"
      },
      "source": [
        "print(n, delta)\n",
        "print(f\"Текущее значение предела: {curr}\")"
      ],
      "execution_count": 13,
      "outputs": [
        {
          "output_type": "stream",
          "name": "stdout",
          "text": [
            "1153 9.99185107097844e-7\n",
            "Текущее значение предела: 2.71711890243040\n"
          ]
        }
      ]
    },
    {
      "cell_type": "markdown",
      "metadata": {
        "id": "4ByHrVfTLXDk"
      },
      "source": [
        "### Используем формулу Стирлинга"
      ]
    },
    {
      "cell_type": "code",
      "metadata": {
        "id": "_Qh7-ZvPJSzX"
      },
      "source": [
        "e = math.exp(1)\n",
        "pi = math.pi"
      ],
      "execution_count": 14,
      "outputs": []
    },
    {
      "cell_type": "code",
      "metadata": {
        "id": "rk59SUpyJSt7"
      },
      "source": [
        "def stirling(n):\n",
        "  return e/(2*pi*n)**(1/(2*n))"
      ],
      "execution_count": 15,
      "outputs": []
    },
    {
      "cell_type": "code",
      "metadata": {
        "id": "2pGcqFoAKWZ_"
      },
      "source": [
        "epsilon = 10e-7\n",
        "delta = 1\n",
        "n = 1\n",
        "curr = stirling(1)\n",
        "step = 1"
      ],
      "execution_count": 16,
      "outputs": []
    },
    {
      "cell_type": "code",
      "metadata": {
        "colab": {
          "base_uri": "https://localhost:8080/"
        },
        "id": "jMY6z6zJKWU2",
        "outputId": "c45670fe-0698-4926-a287-21dab5dbcb04"
      },
      "source": [
        "%%time\n",
        "while delta > epsilon:\n",
        "  next = stirling(n+1)\n",
        "  delta = abs(curr - next)\n",
        "  curr = next\n",
        "  n += step"
      ],
      "execution_count": 17,
      "outputs": [
        {
          "output_type": "stream",
          "name": "stdout",
          "text": [
            "CPU times: user 2.91 ms, sys: 3 µs, total: 2.92 ms\n",
            "Wall time: 2.92 ms\n"
          ]
        }
      ]
    },
    {
      "cell_type": "code",
      "metadata": {
        "colab": {
          "base_uri": "https://localhost:8080/"
        },
        "id": "KkPsQXTMKWON",
        "outputId": "d5fdbb87-8f40-41e0-ab1d-cb86be1e0cb3"
      },
      "source": [
        "print(n, delta)\n",
        "print(f\"Текущее значение предела: {curr}\")"
      ],
      "execution_count": 18,
      "outputs": [
        {
          "output_type": "stream",
          "name": "stdout",
          "text": [
            "3495 9.999133441240815e-07\n",
            "Текущее значение предела: 2.714396971915147\n"
          ]
        }
      ]
    },
    {
      "cell_type": "markdown",
      "metadata": {
        "id": "2-JtzAfjQODa"
      },
      "source": [
        "### Используем просто SymPy"
      ]
    },
    {
      "cell_type": "code",
      "metadata": {
        "id": "w-HJzYOORaL-"
      },
      "source": [
        "from sympy import limit, factorial, oo"
      ],
      "execution_count": 19,
      "outputs": []
    },
    {
      "cell_type": "code",
      "metadata": {
        "colab": {
          "base_uri": "https://localhost:8080/",
          "height": 72
        },
        "id": "jgIWlhRzQMd3",
        "outputId": "36461310-7c96-4cdd-d145-f4dc2e6b73c0"
      },
      "source": [
        "%%time\n",
        "limit(n/(factorial(n)**(1/n)), n, oo)"
      ],
      "execution_count": 20,
      "outputs": [
        {
          "output_type": "stream",
          "name": "stdout",
          "text": [
            "CPU times: user 3.35 ms, sys: 18 µs, total: 3.37 ms\n",
            "Wall time: 3.37 ms\n"
          ]
        },
        {
          "output_type": "execute_result",
          "data": {
            "text/plain": [
              "2.71439695339699"
            ],
            "text/latex": "$\\displaystyle 2.71439695339699$"
          },
          "metadata": {},
          "execution_count": 20
        }
      ]
    },
    {
      "cell_type": "code",
      "metadata": {
        "id": "aPtslsOQRrKm",
        "colab": {
          "base_uri": "https://localhost:8080/",
          "height": 106
        },
        "outputId": "ade08b01-54ca-4fef-daff-e2e520ee7562"
      },
      "source": [
        "е=2,718281828459045235360287..."
      ],
      "execution_count": 21,
      "outputs": [
        {
          "output_type": "error",
          "ename": "SyntaxError",
          "evalue": "invalid syntax (<ipython-input-21-2f9c48f2ce6f>, line 1)",
          "traceback": [
            "\u001b[0;36m  File \u001b[0;32m\"<ipython-input-21-2f9c48f2ce6f>\"\u001b[0;36m, line \u001b[0;32m1\u001b[0m\n\u001b[0;31m    е=2,718281828459045235360287...\u001b[0m\n\u001b[0m                                  ^\u001b[0m\n\u001b[0;31mSyntaxError\u001b[0m\u001b[0;31m:\u001b[0m invalid syntax\n"
          ]
        }
      ]
    }
  ]
}